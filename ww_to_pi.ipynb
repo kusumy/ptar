{
 "cells": [
  {
   "cell_type": "code",
   "execution_count": 1,
   "id": "320308d3-4bd8-44ab-8cfe-e18cc094f3d8",
   "metadata": {},
   "outputs": [],
   "source": [
    "import arrow\n",
    "import argparse            # Construct the argument parser\n",
    "import logging\n",
    "import numpy as np\n",
    "import pandas as pd\n",
    "import pyodbc\n",
    "import time\n",
    "import warnings\n",
    "\n",
    "warnings.filterwarnings('ignore')\n",
    "\n",
    "from datetime import datetime\n",
    "from humanfriendly import format_timespan\n",
    "from sqlalchemy import create_engine\n",
    "from tqdm import tqdm"
   ]
  },
  {
   "cell_type": "code",
   "execution_count": 2,
   "id": "292df9cc-a6ff-4e87-a0b7-02b9eb9d349a",
   "metadata": {},
   "outputs": [],
   "source": [
    "from osisoft.pidevclub.piwebapi.pi_web_api_client import PIWebApiClient\n",
    "from osisoft.pidevclub.piwebapi.models import PIStreamValues, PITimedValue\n",
    "\n",
    "from PiHelper import *"
   ]
  },
  {
   "cell_type": "code",
   "execution_count": 15,
   "id": "ad3222d7-b36b-4196-ba78-1e999116eb9a",
   "metadata": {
    "tags": []
   },
   "outputs": [],
   "source": [
    "server = '192.168.5.191'\n",
    "database = 'Runtime'\n",
    "username = 'pi'\n",
    "password = '1m4dm1n'\n",
    "cnxn = pyodbc.connect('DRIVER={ODBC Driver 17 for SQL Server};SERVER='+server+';DATABASE='+database+';UID='+username+';PWD='+ password)\n",
    "cursor = cnxn.cursor()"
   ]
  },
  {
   "cell_type": "code",
   "execution_count": 4,
   "id": "78c5596e-049a-4b60-90a4-69080624f4e7",
   "metadata": {},
   "outputs": [],
   "source": [
    "piwebapi_url = 'https://192.168.5.76/piwebapi'\n",
    "client = PIWebApiClient(piwebapi_url, useKerberos=False, username=\"administrator\", password=\"Spc12345\", verifySsl=False) \n",
    "piHelper = PiHelper(client)"
   ]
  },
  {
   "cell_type": "code",
   "execution_count": 5,
   "id": "93a70715-e774-49d1-acc2-f8487e0aaf8c",
   "metadata": {},
   "outputs": [],
   "source": [
    "# Read model configuration file\n",
    "df_conf = pd.read_csv('AF_PTAR.csv')\n",
    "\n",
    "# Filter model configuration based on object type\n",
    "object_type = \"ObjectType=='Attribute'\"\n",
    "df_conf = df_conf.query(object_type)"
   ]
  },
  {
   "cell_type": "code",
   "execution_count": 6,
   "id": "0c9001dc-1a0a-443f-9449-161de98303cf",
   "metadata": {},
   "outputs": [],
   "source": [
    "# Create start date and end date table for datestamp selection\n",
    "start = arrow.get(\"20190701 00:00:00\")\n",
    "end = arrow.get(\"20220315 23:59:59\")\n",
    "start_list = []\n",
    "end_list = []\n",
    "\n",
    "for r in arrow.Arrow.span_range('days', start, end):\n",
    "    sdate = r[0].floor('day').format('YYYYMMDD HH:mm:ss')\n",
    "    start_list.append(sdate)\n",
    "    edate = r[1].floor('second').shift(days=+7).format('YYYYMMDD HH:mm:ss')\n",
    "    end_list.append(edate)\n",
    "\n",
    "df_date = pd.DataFrame(list(zip(start_list, end_list)), columns =['start_date', 'end_date'])\n",
    "#df_date['start_date'] = pd.to_datetime(df_date['start_date'])\n",
    "#df_date['end_date'] = pd.to_datetime(df_date['end_date'])\n",
    "\n",
    "l = list(np.arange(0,len(df_date),8))\n",
    "df_date = df_date.iloc[l].sort_values('start_date',ascending=False).reset_index()\n",
    "df_date = df_date.drop(columns=['index'])"
   ]
  },
  {
   "cell_type": "code",
   "execution_count": 7,
   "id": "a4833f80-e307-41c9-a218-e93abcac85c1",
   "metadata": {},
   "outputs": [],
   "source": [
    "# For test\n",
    "tagname = df_conf['Name'][1]            # tag_path = '\\\\\\\\PISERVER\\\\Database1\\\\PCS0210PN001_Crushing|MAR.M0210_FE001_MI_sPV'\n",
    "af_path = df_conf['AFPath'][1]\n",
    "\n",
    "#logging.basicConfig(filename=tagname+'.log', filemode='a', level=logging.INFO, format='%(asctime)s - %(message)s', datefmt='%d-%b-%y %H:%M:%S')"
   ]
  },
  {
   "cell_type": "code",
   "execution_count": 19,
   "id": "de1116a6-374c-4b80-bd24-a6d8db303f05",
   "metadata": {},
   "outputs": [],
   "source": [
    "startdate = df_date['start_date'][1] #\"20220330 00:00:00\"\n",
    "enddate = df_date['end_date'][1] # \"20220315 23:59:59\""
   ]
  },
  {
   "cell_type": "code",
   "execution_count": 20,
   "id": "e8065e27-d5f9-452e-8132-b680a65a444a",
   "metadata": {},
   "outputs": [
    {
     "data": {
      "text/plain": [
       "('20220303 00:00:00', '20220310 23:59:59')"
      ]
     },
     "execution_count": 20,
     "metadata": {},
     "output_type": "execute_result"
    }
   ],
   "source": [
    "startdate, enddate"
   ]
  },
  {
   "cell_type": "code",
   "execution_count": null,
   "id": "80729c06-56f5-47cd-897c-b9f851281f41",
   "metadata": {
    "jupyter": {
     "source_hidden": true
    },
    "tags": []
   },
   "outputs": [],
   "source": [
    "t0_total = time.time()\n",
    "# Iterate through rows\n",
    "for index, row in tqdm(df_date.iterrows(), total=df_date.shape[0]):\n",
    "     # Create start date, and end date for data training\n",
    "    startdate = row['start_date']\n",
    "    enddate = row['end_date']\n",
    "\n",
    "    # Query to WW\n",
    "    sql = \"SET NOCOUNT ON \\\n",
    "    DECLARE @StartDate DateTime \\\n",
    "    DECLARE @EndDate DateTime \\\n",
    "    SET @StartDate = '{}' \\\n",
    "    SET @EndDate = '{}' \\\n",
    "    SET NOCOUNT OFF \\\n",
    "    SELECT  * FROM ( \\\n",
    "    SELECT DateTime, Value \\\n",
    "         FROM History \\\n",
    "         WHERE History.TagName = '{}' \\\n",
    "         AND wwRetrievalMode = 'Cyclic' \\\n",
    "         AND wwResolution = 1000 \\\n",
    "         AND wwQualityRule = 'Extended' \\\n",
    "         AND Quality = 0 \\\n",
    "         AND wwVersion = 'Latest' \\\n",
    "         AND DateTime >= @StartDate \\\n",
    "         AND DateTime <= @EndDate) temp \".format(startdate, enddate, tagname)\n",
    "    try:\n",
    "        # Get data from WW Historian\n",
    "        logging.info(\"Reading data {} from WW Historian ...;\".format(tagname))\n",
    "        logging.info(\"From start time = {} to end time = {}\".format(startdate, enddate))\n",
    "        t0 = time.time()\n",
    "        \n",
    "        # Execute SQL\n",
    "        df = pd.read_sql(sql, cnxn)\n",
    "        t1 = time.time()\n",
    "        \n",
    "        execution_time = t1 - t0\n",
    "        logging.info(\"Execution time: {}\".format(format_timespan(execution_time, True)))\n",
    "\n",
    "        # Length of database record\n",
    "        logging.info(\"Row count = {}\".format(len(df)))\n",
    "        \n",
    "        if (len(df) > 0):\n",
    "            # Get values\n",
    "            values = df['Value'].values.tolist()\n",
    "\n",
    "            # Get timestamp\n",
    "            timestamps = df['DateTime'].dt.strftime(\"%Y-%m-%d %H:%M:%S\").tolist()\n",
    "\n",
    "            # Write data to PI tag\n",
    "            logging.info(\"Insert data to PI Data Archive {} ...\".format(tagname))\n",
    "            t0 = time.process_time()\n",
    "            response = piHelper.insertTimeSeriesValues(af_path, values, timestamps)\n",
    "            t1 = time.process_time()\n",
    "            execution_time = t1 - t0\n",
    "            logging.info(\"Execution time: {}\".format(format_timespan(execution_time, True)))\n",
    "\n",
    "            # Log response\n",
    "            logging.info(str(response))\n",
    "        else:\n",
    "            logging.warning(\"No data for {} at {} to {}\".format(tagname,startdate,enddate))\n",
    "        \n",
    "        logging.info()\n",
    "                     \n",
    "    except Exception as exception:\n",
    "        logging.error(\"Error for {} at {} to {}\".format(tagname,startdate,enddate))\n",
    "        logging.error(str(exception), exc_info=True) \n",
    "        \n",
    "        \n",
    "t1_total = time.time()\n",
    "total_execution_time = t1_total - t0_total\n",
    "logging.info(\"Total execution time: {}\".format(format_timespan(total_execution_time, True)))                     "
   ]
  },
  {
   "cell_type": "code",
   "execution_count": 21,
   "id": "f0fc59b7-a225-4312-8c10-817532593cb2",
   "metadata": {},
   "outputs": [
    {
     "name": "stdout",
     "output_type": "stream",
     "text": [
      "CPU times: user 6 µs, sys: 0 ns, total: 6 µs\n",
      "Wall time: 7.63 µs\n"
     ]
    }
   ],
   "source": [
    "%%time\n",
    "# Query to WW\n",
    "sql = \"SELECT DateTime, Value \\\n",
    " FROM History \\\n",
    " WHERE History.TagName = '{}' \\\n",
    " AND wwRetrievalMode = 'Cyclic' \\\n",
    " AND wwResolution = 1000 \\\n",
    " AND wwQualityRule = 'Extended' \\\n",
    " AND Quality = 0 \\\n",
    " AND wwVersion = 'Latest' \\\n",
    " AND DateTime >= '{}' \\\n",
    " AND DateTime <= '{}' \".format(tagname,startdate, enddate)"
   ]
  },
  {
   "cell_type": "code",
   "execution_count": 16,
   "id": "33f24566-cd2b-4ffb-90e3-f589d73e2697",
   "metadata": {
    "tags": []
   },
   "outputs": [],
   "source": [
    "t0 = time.time()\n",
    "# Get data from WW Historian\n",
    "df = pd.read_sql(sql, cnxn)\n",
    "t1 = time.time()\n",
    "execution_time = t1 - t0"
   ]
  },
  {
   "cell_type": "code",
   "execution_count": 18,
   "id": "6dd1ef74-c329-45d1-a8ab-648a4f09f403",
   "metadata": {},
   "outputs": [
    {
     "data": {
      "text/plain": [
       "0"
      ]
     },
     "execution_count": 18,
     "metadata": {},
     "output_type": "execute_result"
    }
   ],
   "source": [
    "len(df)"
   ]
  },
  {
   "cell_type": "code",
   "execution_count": null,
   "id": "b0eff2ed-d465-497b-998a-c64993a236b6",
   "metadata": {},
   "outputs": [],
   "source": [
    "%%time\n",
    "# Get values\n",
    "values = df['Value'].values.tolist()\n",
    "\n",
    "# Get timestamp\n",
    "timestamps = df['DateTime'].dt.strftime(\"%Y-%m-%d %H:%M:%S\").tolist()"
   ]
  },
  {
   "cell_type": "code",
   "execution_count": null,
   "id": "831c45f9-b39f-4656-885d-12f1acc4eef1",
   "metadata": {},
   "outputs": [],
   "source": [
    "%%time\n",
    "# Write data to PI tag\n",
    "response = piHelper.insertTimeSeriesValues(af_path, values, timestamps)"
   ]
  },
  {
   "cell_type": "code",
   "execution_count": null,
   "id": "ffb3d127-e7f4-43b9-8c40-4008597cabb0",
   "metadata": {},
   "outputs": [],
   "source": [
    "print(str(response))"
   ]
  },
  {
   "cell_type": "code",
   "execution_count": null,
   "id": "40ff3f12-c914-4940-826c-07242fa736ee",
   "metadata": {},
   "outputs": [],
   "source": [
    "response"
   ]
  },
  {
   "cell_type": "code",
   "execution_count": null,
   "id": "1bb56755-d41c-44cb-93b3-1efa0d35ca30",
   "metadata": {},
   "outputs": [],
   "source": [
    "if 202 in response:\n",
    "    print(\"OK\")"
   ]
  },
  {
   "cell_type": "code",
   "execution_count": null,
   "id": "1da2c376-a6d5-4008-9125-0b9e3066e092",
   "metadata": {},
   "outputs": [],
   "source": [
    "# Read data\n",
    "#tag_path = \"pi:\\\\PISERVER\\\\\" + tagname\n",
    "attr_pi = \"af:\" + af_path\n",
    "\n",
    "end = arrow.get(enddate,'YYYYMMDD HH:mm:ss').format('YYYY-MM-DD HH:mm:ss')\n",
    "start = arrow.get(startdate,'YYYYMMDD HH:mm:ss').format('YYYY-MM-DD HH:mm:ss')\n",
    "\n",
    "# Get data from PI Historian based on source_tag\n",
    "#print(\"Get data from {}, {} ...\".format(name, source_tag))\n",
    "dp = piHelper.getInterpolatedData(path=attr_pi, start_time=start, end_time=end, interval='1M')"
   ]
  },
  {
   "cell_type": "code",
   "execution_count": null,
   "id": "8f53b4d2-2c8e-4431-9d86-0379e339d512",
   "metadata": {},
   "outputs": [],
   "source": [
    "dp.head(10)"
   ]
  },
  {
   "cell_type": "code",
   "execution_count": null,
   "id": "93922376-a821-40b3-aecb-93d0314cb3d4",
   "metadata": {},
   "outputs": [],
   "source": []
  }
 ],
 "metadata": {
  "kernelspec": {
   "display_name": "Python 3",
   "language": "python",
   "name": "python3"
  },
  "language_info": {
   "codemirror_mode": {
    "name": "ipython",
    "version": 3
   },
   "file_extension": ".py",
   "mimetype": "text/x-python",
   "name": "python",
   "nbconvert_exporter": "python",
   "pygments_lexer": "ipython3",
   "version": "3.8.12"
  }
 },
 "nbformat": 4,
 "nbformat_minor": 5
}
