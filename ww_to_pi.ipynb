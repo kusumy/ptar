{
 "cells": [
  {
   "cell_type": "code",
   "execution_count": 1,
   "id": "ab13310b",
   "metadata": {},
   "outputs": [],
   "source": [
    "import arrow\n",
    "import argparse            # Construct the argument parser\n",
    "import logging\n",
    "import numpy as np\n",
    "import pandas as pd\n",
    "import pyodbc\n",
    "import time\n",
    "import warnings\n",
    "\n",
    "warnings.filterwarnings('ignore')\n",
    "\n",
    "from datetime import datetime\n",
    "from humanfriendly import format_timespan\n",
    "from sqlalchemy import create_engine\n",
    "from tqdm import tqdm"
   ]
  },
  {
   "cell_type": "code",
   "execution_count": 2,
   "id": "9818bce7",
   "metadata": {},
   "outputs": [],
   "source": [
    "from osisoft.pidevclub.piwebapi.pi_web_api_client import PIWebApiClient\n",
    "from osisoft.pidevclub.piwebapi.models import PIStreamValues, PITimedValue\n",
    "\n",
    "from PiHelper import *"
   ]
  },
  {
   "cell_type": "code",
   "execution_count": 3,
   "id": "0fe73e25",
   "metadata": {
    "tags": []
   },
   "outputs": [],
   "source": [
    "server = '192.168.5.191'\n",
    "database = 'Runtime'\n",
    "username = 'pi'\n",
    "password = '1m4dm1n'\n",
    "cnxn = pyodbc.connect('DRIVER={ODBC Driver 17 for SQL Server};SERVER='+server+';DATABASE='+database+';UID='+username+';PWD='+ password)\n",
    "cursor = cnxn.cursor()"
   ]
  },
  {
   "cell_type": "code",
   "execution_count": 23,
   "id": "bd431839",
   "metadata": {},
   "outputs": [],
   "source": [
    "piwebapi_url = 'https://192.168.5.190/piwebapi'\n",
    "client = PIWebApiClient(piwebapi_url, useKerberos=False, username=\"administrator\", password=\"Spc12345\", verifySsl=False) \n",
    "piHelper = PiHelper(client)"
   ]
  },
  {
   "cell_type": "code",
   "execution_count": 5,
   "id": "6e4aaba4",
   "metadata": {},
   "outputs": [],
   "source": [
    "# Read model configuration file\n",
    "df_conf = pd.read_csv('agincourt_resources.csv')\n",
    "\n",
    "# Filter model configuration based on object type\n",
    "#object_type = \"ObjectType=='Attribute'\"\n",
    "#df_conf = df_conf.query(object_type)\n",
    "df_conf = df_conf.reset_index(drop=True)\n"
   ]
  },
  {
   "cell_type": "code",
   "execution_count": null,
   "id": "5217d09e-b808-44c5-8758-03a63f19df33",
   "metadata": {},
   "outputs": [],
   "source": [
    "df_conf"
   ]
  },
  {
   "cell_type": "code",
   "execution_count": 6,
   "id": "c3d6aa69",
   "metadata": {},
   "outputs": [],
   "source": [
    "# Create start date and end date table for datestamp selection\n",
    "start = arrow.get(\"20220101 00:00:00\")\n",
    "end = arrow.get(\"20220315 23:59:59\")\n",
    "start_list = []\n",
    "end_list = []\n",
    "\n",
    "for r in arrow.Arrow.span_range('days', start, end):\n",
    "    sdate = r[0].floor('day').format('YYYYMMDD HH:mm:ss')\n",
    "    start_list.append(sdate)\n",
    "    edate = r[1].floor('second').shift(days=+6).format('YYYYMMDD HH:mm:ss')\n",
    "    end_list.append(edate)\n",
    "\n",
    "df_date = pd.DataFrame(list(zip(start_list, end_list)), columns =['start_date', 'end_date'])\n",
    "#df_date['start_date'] = pd.to_datetime(df_date['start_date'])\n",
    "#df_date['end_date'] = pd.to_datetime(df_date['end_date'])\n",
    "\n",
    "l = list(np.arange(0,len(df_date),7))\n",
    "df_date = df_date.iloc[l].sort_values('start_date',ascending=False).reset_index()\n",
    "df_date = df_date.drop(columns=['index'])"
   ]
  },
  {
   "cell_type": "code",
   "execution_count": null,
   "id": "901e0087",
   "metadata": {},
   "outputs": [],
   "source": [
    "df_date"
   ]
  },
  {
   "cell_type": "code",
   "execution_count": 7,
   "id": "dfb35059",
   "metadata": {},
   "outputs": [
    {
     "data": {
      "text/plain": [
       "('MAR.M0280_Dose_rateSP_sPV',\n",
       " '\\\\\\\\WS-AUTO\\\\PTAR\\\\Agincourt Resources\\\\Flocculant_plant|MAR.M0280_Dose_rateSP_sPV')"
      ]
     },
     "execution_count": 7,
     "metadata": {},
     "output_type": "execute_result"
    }
   ],
   "source": [
    "# For test\n",
    "tagname = str(df_conf['Name'][0])            # tag_path = '\\\\\\\\PISERVER\\\\Database1\\\\PCS0210PN001_Crushing|MAR.M0210_FE001_MI_sPV'\n",
    "af_path = str(df_conf['AFPath'][0])\n",
    "\n",
    "#logging.basicConfig(filename=tagname+'.log', filemode='a', level=logging.INFO, format='%(asctime)s - %(message)s', datefmt='%d-%b-%y %H:%M:%S')\n",
    "tagname, af_path"
   ]
  },
  {
   "cell_type": "code",
   "execution_count": 8,
   "id": "14fa5fe0",
   "metadata": {},
   "outputs": [
    {
     "data": {
      "text/plain": [
       "('20220101 00:00:00', '20220107 23:59:59')"
      ]
     },
     "execution_count": 8,
     "metadata": {},
     "output_type": "execute_result"
    }
   ],
   "source": [
    "startdate = df_date['start_date'][len(df_date)-1] #\"20220330 00:00:00\"\n",
    "enddate = df_date['end_date'][len(df_date)-1] # \"20220315 23:59:59\"\n",
    "startdate, enddate"
   ]
  },
  {
   "cell_type": "code",
   "execution_count": 9,
   "id": "83c9a926",
   "metadata": {},
   "outputs": [
    {
     "name": "stdout",
     "output_type": "stream",
     "text": [
      "CPU times: user 5 µs, sys: 0 ns, total: 5 µs\n",
      "Wall time: 7.63 µs\n"
     ]
    }
   ],
   "source": [
    "%%time\n",
    "# Query to WW\n",
    "sql = \"SELECT DateTime, Value \\\n",
    " FROM History \\\n",
    " WHERE History.TagName = '{}' \\\n",
    " AND wwRetrievalMode = 'Delta' \\\n",
    " AND wwResolution = 1000 \\\n",
    " AND wwQualityRule = 'Extended' \\\n",
    " AND Quality = 0 \\\n",
    " AND wwVersion = 'Latest' \\\n",
    " AND DateTime >= '{}' \\\n",
    " AND DateTime <= '{}' \".format(tagname,startdate,enddate)"
   ]
  },
  {
   "cell_type": "code",
   "execution_count": 10,
   "id": "ff3d2d1e",
   "metadata": {
    "tags": []
   },
   "outputs": [
    {
     "name": "stdout",
     "output_type": "stream",
     "text": [
      "Exection time = 13 milliseconds, 646 microseconds and 125.79 nanoseconds\n",
      "CPU times: user 2.72 ms, sys: 218 µs, total: 2.94 ms\n",
      "Wall time: 14 ms\n"
     ]
    }
   ],
   "source": [
    "%%time\n",
    "t0 = time.time()\n",
    "# Get data from WW Historian\n",
    "df = pd.read_sql(sql, cnxn)\n",
    "t1 = time.time()\n",
    "execution_time = format_timespan(t1 - t0, True, max_units=2)\n",
    "print(\"Exection time = {}\".format(execution_time))"
   ]
  },
  {
   "cell_type": "code",
   "execution_count": 30,
   "id": "3dbdbd7f",
   "metadata": {},
   "outputs": [
    {
     "data": {
      "text/html": [
       "<div>\n",
       "<style scoped>\n",
       "    .dataframe tbody tr th:only-of-type {\n",
       "        vertical-align: middle;\n",
       "    }\n",
       "\n",
       "    .dataframe tbody tr th {\n",
       "        vertical-align: top;\n",
       "    }\n",
       "\n",
       "    .dataframe thead th {\n",
       "        text-align: right;\n",
       "    }\n",
       "</style>\n",
       "<table border=\"1\" class=\"dataframe\">\n",
       "  <thead>\n",
       "    <tr style=\"text-align: right;\">\n",
       "      <th></th>\n",
       "      <th>DateTime</th>\n",
       "      <th>Value</th>\n",
       "    </tr>\n",
       "  </thead>\n",
       "  <tbody>\n",
       "    <tr>\n",
       "      <th>0</th>\n",
       "      <td>2022-01-04 11:12:52</td>\n",
       "      <td>125.0</td>\n",
       "    </tr>\n",
       "    <tr>\n",
       "      <th>1</th>\n",
       "      <td>2022-01-05 16:14:03</td>\n",
       "      <td>130.0</td>\n",
       "    </tr>\n",
       "    <tr>\n",
       "      <th>2</th>\n",
       "      <td>2022-01-06 13:27:35</td>\n",
       "      <td>135.0</td>\n",
       "    </tr>\n",
       "  </tbody>\n",
       "</table>\n",
       "</div>"
      ],
      "text/plain": [
       "             DateTime  Value\n",
       "0 2022-01-04 11:12:52  125.0\n",
       "1 2022-01-05 16:14:03  130.0\n",
       "2 2022-01-06 13:27:35  135.0"
      ]
     },
     "execution_count": 30,
     "metadata": {},
     "output_type": "execute_result"
    }
   ],
   "source": [
    "df"
   ]
  },
  {
   "cell_type": "code",
   "execution_count": 11,
   "id": "e2d01e39",
   "metadata": {},
   "outputs": [
    {
     "name": "stdout",
     "output_type": "stream",
     "text": [
      "CPU times: user 29 µs, sys: 0 ns, total: 29 µs\n",
      "Wall time: 31.5 µs\n"
     ]
    }
   ],
   "source": [
    "%%time\n",
    "# Get values\n",
    "values = df['Value']\n",
    "\n",
    "# Get timestamp\n",
    "timestamps = df['DateTime']"
   ]
  },
  {
   "cell_type": "code",
   "execution_count": 27,
   "id": "a36a1029",
   "metadata": {},
   "outputs": [
    {
     "name": "stdout",
     "output_type": "stream",
     "text": [
      "CPU times: user 21.2 ms, sys: 0 ns, total: 21.2 ms\n",
      "Wall time: 48.1 ms\n"
     ]
    }
   ],
   "source": [
    "%%time\n",
    "# Write data to PI tag\n",
    "response = piHelper.insertTimeSeriesValues(af_path, values, timestamps)"
   ]
  },
  {
   "cell_type": "code",
   "execution_count": 28,
   "id": "5d1f57af",
   "metadata": {},
   "outputs": [
    {
     "name": "stdout",
     "output_type": "stream",
     "text": [
      "({'items': None, 'links': None}, 202, {'Transfer-Encoding': 'chunked', 'Server': 'Microsoft-HTTPAPI/2.0', 'X-Frame-Options': 'SAMEORIGIN', 'Content-Security-Policy': \"default-src 'self'; object-src 'none'\", 'X-Content-Type-Options': 'nosniff', 'content-type': 'application/json', 'content-encoding': 'gzip', 'Date': 'Fri, 08 Apr 2022 22:16:42 GMT'})\n"
     ]
    }
   ],
   "source": [
    "print(str(response))"
   ]
  },
  {
   "cell_type": "code",
   "execution_count": 29,
   "id": "0dbffc1f",
   "metadata": {},
   "outputs": [
    {
     "data": {
      "text/plain": [
       "({'items': None, 'links': None},\n",
       " 202,\n",
       " {'Transfer-Encoding': 'chunked', 'Server': 'Microsoft-HTTPAPI/2.0', 'X-Frame-Options': 'SAMEORIGIN', 'Content-Security-Policy': \"default-src 'self'; object-src 'none'\", 'X-Content-Type-Options': 'nosniff', 'content-type': 'application/json', 'content-encoding': 'gzip', 'Date': 'Fri, 08 Apr 2022 22:16:42 GMT'})"
      ]
     },
     "execution_count": 29,
     "metadata": {},
     "output_type": "execute_result"
    }
   ],
   "source": [
    "response"
   ]
  },
  {
   "cell_type": "code",
   "execution_count": null,
   "id": "44305e9f",
   "metadata": {},
   "outputs": [],
   "source": [
    "if 202 in response:\n",
    "    print(\"OK\")"
   ]
  },
  {
   "cell_type": "code",
   "execution_count": null,
   "id": "07abee89",
   "metadata": {},
   "outputs": [],
   "source": [
    "# Read data\n",
    "#tag_path = \"pi:\\\\PISERVER\\\\\" + tagname\n",
    "attr_pi = \"af:\" + af_path\n",
    "\n",
    "end = arrow.get(enddate,'YYYYMMDD HH:mm:ss').format('YYYY-MM-DD HH:mm:ss')\n",
    "start = arrow.get(startdate,'YYYYMMDD HH:mm:ss').format('YYYY-MM-DD HH:mm:ss')\n",
    "\n",
    "# Get data from PI Historian based on source_tag\n",
    "#print(\"Get data from {}, {} ...\".format(name, source_tag))\n",
    "dp = piHelper.getInterpolatedData(path=attr_pi, start_time=start, end_time=end, interval='1M')"
   ]
  },
  {
   "cell_type": "code",
   "execution_count": null,
   "id": "130656e1",
   "metadata": {},
   "outputs": [],
   "source": [
    "dp.head(10)"
   ]
  },
  {
   "cell_type": "code",
   "execution_count": null,
   "id": "11c1eb0e",
   "metadata": {},
   "outputs": [],
   "source": []
  }
 ],
 "metadata": {
  "interpreter": {
   "hash": "0fcfb7ed0c2cc8067674d76ada63ce0bb12aa739177fd3f532eadc7f0f1eccac"
  },
  "kernelspec": {
   "display_name": "Python 3",
   "language": "python",
   "name": "python3"
  },
  "language_info": {
   "codemirror_mode": {
    "name": "ipython",
    "version": 3
   },
   "file_extension": ".py",
   "mimetype": "text/x-python",
   "name": "python",
   "nbconvert_exporter": "python",
   "pygments_lexer": "ipython3",
   "version": "3.8.12"
  }
 },
 "nbformat": 4,
 "nbformat_minor": 5
}
