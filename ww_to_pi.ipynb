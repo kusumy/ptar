{
 "cells": [
  {
   "cell_type": "code",
   "execution_count": 1,
   "id": "50083fc7",
   "metadata": {},
   "outputs": [],
   "source": [
    "import arrow\n",
    "import argparse            # Construct the argument parser\n",
    "import logging\n",
    "import numpy as np\n",
    "import pandas as pd\n",
    "import pyodbc\n",
    "import time\n",
    "import warnings\n",
    "\n",
    "warnings.filterwarnings('ignore')\n",
    "\n",
    "from datetime import datetime\n",
    "from humanfriendly import format_timespan\n",
    "from sqlalchemy import create_engine\n",
    "from tqdm import tqdm"
   ]
  },
  {
   "cell_type": "code",
   "execution_count": 2,
   "id": "6045cf47",
   "metadata": {},
   "outputs": [],
   "source": [
    "from osisoft.pidevclub.piwebapi.pi_web_api_client import PIWebApiClient\n",
    "from osisoft.pidevclub.piwebapi.models import PIStreamValues, PITimedValue\n",
    "\n",
    "from PiHelper import *"
   ]
  },
  {
   "cell_type": "code",
   "execution_count": 3,
   "id": "80aaf9f8",
   "metadata": {
    "tags": []
   },
   "outputs": [],
   "source": [
    "server = '192.168.5.191'\n",
    "database = 'Runtime'\n",
    "username = 'pi'\n",
    "password = '1m4dm1n'\n",
    "cnxn = pyodbc.connect('DRIVER={ODBC Driver 17 for SQL Server};SERVER='+server+';DATABASE='+database+';UID='+username+';PWD='+ password)\n",
    "cursor = cnxn.cursor()"
   ]
  },
  {
   "cell_type": "code",
   "execution_count": 50,
   "id": "e253f872",
   "metadata": {},
   "outputs": [],
   "source": [
    "piwebapi_url = 'https://192.168.5.74/piwebapi'\n",
    "client = PIWebApiClient(piwebapi_url, useKerberos=False, username=\"administrator\", password=\"Spc12345\", verifySsl=False) \n",
    "piHelper = PiHelper(client)"
   ]
  },
  {
   "cell_type": "code",
   "execution_count": 60,
   "id": "aeff16fb",
   "metadata": {},
   "outputs": [],
   "source": [
    "# Read model configuration file\n",
    "df_conf = pd.read_csv('AF_PTAR.csv')\n",
    "\n",
    "# Filter model configuration based on object type\n",
    "object_type = \"ObjectType=='Attribute'\"\n",
    "df_conf = df_conf.query(object_type)\n",
    "df_conf = df_conf.reset_index(drop=True)\n"
   ]
  },
  {
   "cell_type": "code",
   "execution_count": 30,
   "id": "2628e615",
   "metadata": {},
   "outputs": [],
   "source": [
    "# Create start date and end date table for datestamp selection\n",
    "start = arrow.get(\"20220101 00:00:00\")\n",
    "end = arrow.get(\"20220315 23:59:59\")\n",
    "start_list = []\n",
    "end_list = []\n",
    "\n",
    "for r in arrow.Arrow.span_range('days', start, end):\n",
    "    sdate = r[0].floor('day').format('YYYYMMDD HH:mm:ss')\n",
    "    start_list.append(sdate)\n",
    "    edate = r[1].floor('second').shift(days=+6).format('YYYYMMDD HH:mm:ss')\n",
    "    end_list.append(edate)\n",
    "\n",
    "df_date = pd.DataFrame(list(zip(start_list, end_list)), columns =['start_date', 'end_date'])\n",
    "#df_date['start_date'] = pd.to_datetime(df_date['start_date'])\n",
    "#df_date['end_date'] = pd.to_datetime(df_date['end_date'])\n",
    "\n",
    "l = list(np.arange(0,len(df_date),7))\n",
    "df_date = df_date.iloc[l].sort_values('start_date',ascending=False).reset_index()\n",
    "df_date = df_date.drop(columns=['index'])"
   ]
  },
  {
   "cell_type": "code",
   "execution_count": 31,
   "id": "40588a92",
   "metadata": {},
   "outputs": [
    {
     "data": {
      "text/html": [
       "<div>\n",
       "<style scoped>\n",
       "    .dataframe tbody tr th:only-of-type {\n",
       "        vertical-align: middle;\n",
       "    }\n",
       "\n",
       "    .dataframe tbody tr th {\n",
       "        vertical-align: top;\n",
       "    }\n",
       "\n",
       "    .dataframe thead th {\n",
       "        text-align: right;\n",
       "    }\n",
       "</style>\n",
       "<table border=\"1\" class=\"dataframe\">\n",
       "  <thead>\n",
       "    <tr style=\"text-align: right;\">\n",
       "      <th></th>\n",
       "      <th>start_date</th>\n",
       "      <th>end_date</th>\n",
       "    </tr>\n",
       "  </thead>\n",
       "  <tbody>\n",
       "    <tr>\n",
       "      <th>0</th>\n",
       "      <td>20220312 00:00:00</td>\n",
       "      <td>20220318 23:59:59</td>\n",
       "    </tr>\n",
       "    <tr>\n",
       "      <th>1</th>\n",
       "      <td>20220305 00:00:00</td>\n",
       "      <td>20220311 23:59:59</td>\n",
       "    </tr>\n",
       "    <tr>\n",
       "      <th>2</th>\n",
       "      <td>20220226 00:00:00</td>\n",
       "      <td>20220304 23:59:59</td>\n",
       "    </tr>\n",
       "    <tr>\n",
       "      <th>3</th>\n",
       "      <td>20220219 00:00:00</td>\n",
       "      <td>20220225 23:59:59</td>\n",
       "    </tr>\n",
       "    <tr>\n",
       "      <th>4</th>\n",
       "      <td>20220212 00:00:00</td>\n",
       "      <td>20220218 23:59:59</td>\n",
       "    </tr>\n",
       "    <tr>\n",
       "      <th>5</th>\n",
       "      <td>20220205 00:00:00</td>\n",
       "      <td>20220211 23:59:59</td>\n",
       "    </tr>\n",
       "    <tr>\n",
       "      <th>6</th>\n",
       "      <td>20220129 00:00:00</td>\n",
       "      <td>20220204 23:59:59</td>\n",
       "    </tr>\n",
       "    <tr>\n",
       "      <th>7</th>\n",
       "      <td>20220122 00:00:00</td>\n",
       "      <td>20220128 23:59:59</td>\n",
       "    </tr>\n",
       "    <tr>\n",
       "      <th>8</th>\n",
       "      <td>20220115 00:00:00</td>\n",
       "      <td>20220121 23:59:59</td>\n",
       "    </tr>\n",
       "    <tr>\n",
       "      <th>9</th>\n",
       "      <td>20220108 00:00:00</td>\n",
       "      <td>20220114 23:59:59</td>\n",
       "    </tr>\n",
       "    <tr>\n",
       "      <th>10</th>\n",
       "      <td>20220101 00:00:00</td>\n",
       "      <td>20220107 23:59:59</td>\n",
       "    </tr>\n",
       "  </tbody>\n",
       "</table>\n",
       "</div>"
      ],
      "text/plain": [
       "           start_date           end_date\n",
       "0   20220312 00:00:00  20220318 23:59:59\n",
       "1   20220305 00:00:00  20220311 23:59:59\n",
       "2   20220226 00:00:00  20220304 23:59:59\n",
       "3   20220219 00:00:00  20220225 23:59:59\n",
       "4   20220212 00:00:00  20220218 23:59:59\n",
       "5   20220205 00:00:00  20220211 23:59:59\n",
       "6   20220129 00:00:00  20220204 23:59:59\n",
       "7   20220122 00:00:00  20220128 23:59:59\n",
       "8   20220115 00:00:00  20220121 23:59:59\n",
       "9   20220108 00:00:00  20220114 23:59:59\n",
       "10  20220101 00:00:00  20220107 23:59:59"
      ]
     },
     "execution_count": 31,
     "metadata": {},
     "output_type": "execute_result"
    }
   ],
   "source": [
    "df_date"
   ]
  },
  {
   "cell_type": "code",
   "execution_count": 62,
   "id": "7b4e0e5f",
   "metadata": {},
   "outputs": [
    {
     "data": {
      "text/plain": [
       "('MAR.M0210_FE002_sHRSRUN',\n",
       " '\\\\\\\\PISERVER\\\\Database1\\\\PCS0210PN002_Reclaim|MAR.M0210_FE002_sHRSRUN')"
      ]
     },
     "execution_count": 62,
     "metadata": {},
     "output_type": "execute_result"
    }
   ],
   "source": [
    "# For test\n",
    "tagname = df_conf['Name'][5]            # tag_path = '\\\\\\\\PISERVER\\\\Database1\\\\PCS0210PN001_Crushing|MAR.M0210_FE001_MI_sPV'\n",
    "af_path = df_conf['AFPath'][5]\n",
    "\n",
    "#logging.basicConfig(filename=tagname+'.log', filemode='a', level=logging.INFO, format='%(asctime)s - %(message)s', datefmt='%d-%b-%y %H:%M:%S')\n",
    "tagname, af_path"
   ]
  },
  {
   "cell_type": "code",
   "execution_count": 33,
   "id": "67453e56",
   "metadata": {},
   "outputs": [
    {
     "data": {
      "text/plain": [
       "('20220101 00:00:00', '20220107 23:59:59')"
      ]
     },
     "execution_count": 33,
     "metadata": {},
     "output_type": "execute_result"
    }
   ],
   "source": [
    "startdate = df_date['start_date'][len(df_date)-1] #\"20220330 00:00:00\"\n",
    "enddate = df_date['end_date'][len(df_date)-1] # \"20220315 23:59:59\"\n",
    "startdate, enddate"
   ]
  },
  {
   "cell_type": "code",
   "execution_count": 34,
   "id": "4baedb3f",
   "metadata": {},
   "outputs": [
    {
     "name": "stdout",
     "output_type": "stream",
     "text": [
      "CPU times: user 4 µs, sys: 1 µs, total: 5 µs\n",
      "Wall time: 6.68 µs\n"
     ]
    }
   ],
   "source": [
    "%%time\n",
    "# Query to WW\n",
    "sql = \"SELECT DateTime, Value \\\n",
    " FROM History \\\n",
    " WHERE History.TagName = '{}' \\\n",
    " AND wwRetrievalMode = 'Cyclic' \\\n",
    " AND wwResolution = 1000 \\\n",
    " AND wwQualityRule = 'Extended' \\\n",
    " AND Quality = 0 \\\n",
    " AND wwVersion = 'Latest' \\\n",
    " AND DateTime >= '{}' \\\n",
    " AND DateTime <= '{}' \".format(tagname,startdate,enddate)"
   ]
  },
  {
   "cell_type": "code",
   "execution_count": 35,
   "id": "dd936630",
   "metadata": {
    "tags": []
   },
   "outputs": [
    {
     "name": "stdout",
     "output_type": "stream",
     "text": [
      "17 seconds, 658 milliseconds, 792 microseconds and 734.15 nanoseconds\n"
     ]
    }
   ],
   "source": [
    "t0 = time.time()\n",
    "# Get data from WW Historian\n",
    "df = pd.read_sql(sql, cnxn)\n",
    "t1 = time.time()\n",
    "execution_time = format_timespan(t1 - t0, True, max_units=4)\n",
    "print(execution_time)"
   ]
  },
  {
   "cell_type": "code",
   "execution_count": 36,
   "id": "835e6e48",
   "metadata": {},
   "outputs": [
    {
     "data": {
      "text/plain": [
       "604800"
      ]
     },
     "execution_count": 36,
     "metadata": {},
     "output_type": "execute_result"
    }
   ],
   "source": [
    "len(df)"
   ]
  },
  {
   "cell_type": "code",
   "execution_count": 37,
   "id": "7ddfd850",
   "metadata": {},
   "outputs": [
    {
     "name": "stdout",
     "output_type": "stream",
     "text": [
      "CPU times: user 33 µs, sys: 0 ns, total: 33 µs\n",
      "Wall time: 36.2 µs\n"
     ]
    }
   ],
   "source": [
    "%%time\n",
    "# Get values\n",
    "values = df['Value']\n",
    "\n",
    "# Get timestamp\n",
    "timestamps = df['DateTime']"
   ]
  },
  {
   "cell_type": "code",
   "execution_count": null,
   "id": "1ce728d5",
   "metadata": {},
   "outputs": [],
   "source": [
    "%%time\n",
    "# Write data to PI tag\n",
    "response = piHelper.insertTimeSeriesValues(af_path, values, timestamps)"
   ]
  },
  {
   "cell_type": "code",
   "execution_count": null,
   "id": "a6dc04f2",
   "metadata": {},
   "outputs": [],
   "source": [
    "print(str(response))"
   ]
  },
  {
   "cell_type": "code",
   "execution_count": null,
   "id": "4698e82e",
   "metadata": {},
   "outputs": [],
   "source": [
    "response"
   ]
  },
  {
   "cell_type": "code",
   "execution_count": null,
   "id": "192170ce",
   "metadata": {},
   "outputs": [],
   "source": [
    "if 202 in response:\n",
    "    print(\"OK\")"
   ]
  },
  {
   "cell_type": "code",
   "execution_count": null,
   "id": "5809eb4d",
   "metadata": {},
   "outputs": [],
   "source": [
    "# Read data\n",
    "#tag_path = \"pi:\\\\PISERVER\\\\\" + tagname\n",
    "attr_pi = \"af:\" + af_path\n",
    "\n",
    "end = arrow.get(enddate,'YYYYMMDD HH:mm:ss').format('YYYY-MM-DD HH:mm:ss')\n",
    "start = arrow.get(startdate,'YYYYMMDD HH:mm:ss').format('YYYY-MM-DD HH:mm:ss')\n",
    "\n",
    "# Get data from PI Historian based on source_tag\n",
    "#print(\"Get data from {}, {} ...\".format(name, source_tag))\n",
    "dp = piHelper.getInterpolatedData(path=attr_pi, start_time=start, end_time=end, interval='1M')"
   ]
  },
  {
   "cell_type": "code",
   "execution_count": null,
   "id": "e006c482",
   "metadata": {},
   "outputs": [],
   "source": [
    "dp.head(10)"
   ]
  },
  {
   "cell_type": "code",
   "execution_count": null,
   "id": "765e236b",
   "metadata": {},
   "outputs": [],
   "source": []
  }
 ],
 "metadata": {
  "interpreter": {
   "hash": "0fcfb7ed0c2cc8067674d76ada63ce0bb12aa739177fd3f532eadc7f0f1eccac"
  },
  "kernelspec": {
   "display_name": "Python 3",
   "language": "python",
   "name": "python3"
  },
  "language_info": {
   "codemirror_mode": {
    "name": "ipython",
    "version": 3
   },
   "file_extension": ".py",
   "mimetype": "text/x-python",
   "name": "python",
   "nbconvert_exporter": "python",
   "pygments_lexer": "ipython3",
   "version": "3.8.12"
  }
 },
 "nbformat": 4,
 "nbformat_minor": 5
}
